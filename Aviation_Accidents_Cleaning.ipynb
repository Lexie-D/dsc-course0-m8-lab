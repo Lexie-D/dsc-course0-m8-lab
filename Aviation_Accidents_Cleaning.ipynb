{
 "cells": [
  {
   "cell_type": "markdown",
   "id": "d7485d62",
   "metadata": {},
   "source": [
    "# Aviation Accidents Analysis\n",
    "\n",
    "You are part of a consulting firm that is tasked to do an analysis of commercial and passenger jet airline safety. The client (an airline/airplane insurer) is interested in knowing what types of aircraft (makes/models) exhibit low rates of total destruction and low likelihood of fatal or serious passenger injuries in the event of an accident. They are also interested in any general variables/conditions that might be at play. Your analysis will be based off of aviation accident data accumulated from the years 1948-2023. \n",
    "\n",
    "Our client is only interested in airplane makes/models that are professional builds and could potentially still be active. Assume a max lifetime of 40 years for a make/model retirement and make sure to filter your data accordingly (i.e. from 1983 onwards). They would also like separate recommendations for small aircraft vs. larger passenger models. **In addition, make sure that claims that you make are statistically robust and that you have enough samples when making comparisons between groups.**\n",
    "\n",
    "\n",
    "In this summative assessment you will demonstrate your ability to:\n",
    "- **Use Pandas to load, inspect, and clean the dataset appropriately.**\n",
    "- **Transform relevant columns to create measures that address the problem at hand.**\n",
    "- conduct EDA: visualization and statistical measures to systematically understand the structure of the data\n",
    "- recommend a set of airplanes and makes conforming to the client's request and identify at least *two* factors contributing to airplane safety. You must provide supporting evidence (visuals, summary statistics, tables) for each claim you make."
   ]
  },
  {
   "cell_type": "markdown",
   "id": "73e582c5",
   "metadata": {},
   "source": [
    "### Make relevant library imports"
   ]
  },
  {
   "cell_type": "code",
   "execution_count": 34,
   "id": "32291488-262f-49ec-b229-becdc6dbfd22",
   "metadata": {},
   "outputs": [],
   "source": [
    "import pandas as pd\n",
    "import numpy as np\n",
    "import matplotlib.pyplot as plt\n",
    "import seaborn as sns"
   ]
  },
  {
   "cell_type": "markdown",
   "id": "5b1fc321",
   "metadata": {},
   "source": [
    "## Data Loading and Inspection"
   ]
  },
  {
   "cell_type": "markdown",
   "id": "57becc28",
   "metadata": {},
   "source": [
    "### Load in data from the relevant directory and inspect the dataframe.\n",
    "- inspect NaNs, datatypes, and summary statistics"
   ]
  },
  {
   "cell_type": "code",
   "execution_count": 35,
   "id": "85235fa7",
   "metadata": {},
   "outputs": [],
   "source": [
    "av_df=pd.read_csv('AviationData.csv', index_col=0, encoding='latin1', low_memory=False)"
   ]
  },
  {
   "cell_type": "code",
   "execution_count": 36,
   "id": "00a29005-1472-484b-8496-27c5e9dab26c",
   "metadata": {},
   "outputs": [
    {
     "data": {
      "text/html": [
       "<div>\n",
       "<style scoped>\n",
       "    .dataframe tbody tr th:only-of-type {\n",
       "        vertical-align: middle;\n",
       "    }\n",
       "\n",
       "    .dataframe tbody tr th {\n",
       "        vertical-align: top;\n",
       "    }\n",
       "\n",
       "    .dataframe thead th {\n",
       "        text-align: right;\n",
       "    }\n",
       "</style>\n",
       "<table border=\"1\" class=\"dataframe\">\n",
       "  <thead>\n",
       "    <tr style=\"text-align: right;\">\n",
       "      <th></th>\n",
       "      <th>Investigation.Type</th>\n",
       "      <th>Accident.Number</th>\n",
       "      <th>Event.Date</th>\n",
       "      <th>Location</th>\n",
       "      <th>Country</th>\n",
       "      <th>Latitude</th>\n",
       "      <th>Longitude</th>\n",
       "      <th>Airport.Code</th>\n",
       "      <th>Airport.Name</th>\n",
       "      <th>Injury.Severity</th>\n",
       "      <th>...</th>\n",
       "      <th>Purpose.of.flight</th>\n",
       "      <th>Air.carrier</th>\n",
       "      <th>Total.Fatal.Injuries</th>\n",
       "      <th>Total.Serious.Injuries</th>\n",
       "      <th>Total.Minor.Injuries</th>\n",
       "      <th>Total.Uninjured</th>\n",
       "      <th>Weather.Condition</th>\n",
       "      <th>Broad.phase.of.flight</th>\n",
       "      <th>Report.Status</th>\n",
       "      <th>Publication.Date</th>\n",
       "    </tr>\n",
       "    <tr>\n",
       "      <th>Event.Id</th>\n",
       "      <th></th>\n",
       "      <th></th>\n",
       "      <th></th>\n",
       "      <th></th>\n",
       "      <th></th>\n",
       "      <th></th>\n",
       "      <th></th>\n",
       "      <th></th>\n",
       "      <th></th>\n",
       "      <th></th>\n",
       "      <th></th>\n",
       "      <th></th>\n",
       "      <th></th>\n",
       "      <th></th>\n",
       "      <th></th>\n",
       "      <th></th>\n",
       "      <th></th>\n",
       "      <th></th>\n",
       "      <th></th>\n",
       "      <th></th>\n",
       "      <th></th>\n",
       "    </tr>\n",
       "  </thead>\n",
       "  <tbody>\n",
       "    <tr>\n",
       "      <th>20001218X45444</th>\n",
       "      <td>Accident</td>\n",
       "      <td>SEA87LA080</td>\n",
       "      <td>1948-10-24</td>\n",
       "      <td>MOOSE CREEK, ID</td>\n",
       "      <td>United States</td>\n",
       "      <td>NaN</td>\n",
       "      <td>NaN</td>\n",
       "      <td>NaN</td>\n",
       "      <td>NaN</td>\n",
       "      <td>Fatal(2)</td>\n",
       "      <td>...</td>\n",
       "      <td>Personal</td>\n",
       "      <td>NaN</td>\n",
       "      <td>2.0</td>\n",
       "      <td>0.0</td>\n",
       "      <td>0.0</td>\n",
       "      <td>0.0</td>\n",
       "      <td>UNK</td>\n",
       "      <td>Cruise</td>\n",
       "      <td>Probable Cause</td>\n",
       "      <td>NaN</td>\n",
       "    </tr>\n",
       "    <tr>\n",
       "      <th>20001218X45447</th>\n",
       "      <td>Accident</td>\n",
       "      <td>LAX94LA336</td>\n",
       "      <td>1962-07-19</td>\n",
       "      <td>BRIDGEPORT, CA</td>\n",
       "      <td>United States</td>\n",
       "      <td>NaN</td>\n",
       "      <td>NaN</td>\n",
       "      <td>NaN</td>\n",
       "      <td>NaN</td>\n",
       "      <td>Fatal(4)</td>\n",
       "      <td>...</td>\n",
       "      <td>Personal</td>\n",
       "      <td>NaN</td>\n",
       "      <td>4.0</td>\n",
       "      <td>0.0</td>\n",
       "      <td>0.0</td>\n",
       "      <td>0.0</td>\n",
       "      <td>UNK</td>\n",
       "      <td>Unknown</td>\n",
       "      <td>Probable Cause</td>\n",
       "      <td>19-09-1996</td>\n",
       "    </tr>\n",
       "    <tr>\n",
       "      <th>20061025X01555</th>\n",
       "      <td>Accident</td>\n",
       "      <td>NYC07LA005</td>\n",
       "      <td>1974-08-30</td>\n",
       "      <td>Saltville, VA</td>\n",
       "      <td>United States</td>\n",
       "      <td>36.922223</td>\n",
       "      <td>-81.878056</td>\n",
       "      <td>NaN</td>\n",
       "      <td>NaN</td>\n",
       "      <td>Fatal(3)</td>\n",
       "      <td>...</td>\n",
       "      <td>Personal</td>\n",
       "      <td>NaN</td>\n",
       "      <td>3.0</td>\n",
       "      <td>NaN</td>\n",
       "      <td>NaN</td>\n",
       "      <td>NaN</td>\n",
       "      <td>IMC</td>\n",
       "      <td>Cruise</td>\n",
       "      <td>Probable Cause</td>\n",
       "      <td>26-02-2007</td>\n",
       "    </tr>\n",
       "    <tr>\n",
       "      <th>20001218X45448</th>\n",
       "      <td>Accident</td>\n",
       "      <td>LAX96LA321</td>\n",
       "      <td>1977-06-19</td>\n",
       "      <td>EUREKA, CA</td>\n",
       "      <td>United States</td>\n",
       "      <td>NaN</td>\n",
       "      <td>NaN</td>\n",
       "      <td>NaN</td>\n",
       "      <td>NaN</td>\n",
       "      <td>Fatal(2)</td>\n",
       "      <td>...</td>\n",
       "      <td>Personal</td>\n",
       "      <td>NaN</td>\n",
       "      <td>2.0</td>\n",
       "      <td>0.0</td>\n",
       "      <td>0.0</td>\n",
       "      <td>0.0</td>\n",
       "      <td>IMC</td>\n",
       "      <td>Cruise</td>\n",
       "      <td>Probable Cause</td>\n",
       "      <td>12-09-2000</td>\n",
       "    </tr>\n",
       "    <tr>\n",
       "      <th>20041105X01764</th>\n",
       "      <td>Accident</td>\n",
       "      <td>CHI79FA064</td>\n",
       "      <td>1979-08-02</td>\n",
       "      <td>Canton, OH</td>\n",
       "      <td>United States</td>\n",
       "      <td>NaN</td>\n",
       "      <td>NaN</td>\n",
       "      <td>NaN</td>\n",
       "      <td>NaN</td>\n",
       "      <td>Fatal(1)</td>\n",
       "      <td>...</td>\n",
       "      <td>Personal</td>\n",
       "      <td>NaN</td>\n",
       "      <td>1.0</td>\n",
       "      <td>2.0</td>\n",
       "      <td>NaN</td>\n",
       "      <td>0.0</td>\n",
       "      <td>VMC</td>\n",
       "      <td>Approach</td>\n",
       "      <td>Probable Cause</td>\n",
       "      <td>16-04-1980</td>\n",
       "    </tr>\n",
       "  </tbody>\n",
       "</table>\n",
       "<p>5 rows × 30 columns</p>\n",
       "</div>"
      ],
      "text/plain": [
       "               Investigation.Type Accident.Number  Event.Date  \\\n",
       "Event.Id                                                        \n",
       "20001218X45444           Accident      SEA87LA080  1948-10-24   \n",
       "20001218X45447           Accident      LAX94LA336  1962-07-19   \n",
       "20061025X01555           Accident      NYC07LA005  1974-08-30   \n",
       "20001218X45448           Accident      LAX96LA321  1977-06-19   \n",
       "20041105X01764           Accident      CHI79FA064  1979-08-02   \n",
       "\n",
       "                       Location        Country   Latitude   Longitude  \\\n",
       "Event.Id                                                                \n",
       "20001218X45444  MOOSE CREEK, ID  United States        NaN         NaN   \n",
       "20001218X45447   BRIDGEPORT, CA  United States        NaN         NaN   \n",
       "20061025X01555    Saltville, VA  United States  36.922223  -81.878056   \n",
       "20001218X45448       EUREKA, CA  United States        NaN         NaN   \n",
       "20041105X01764       Canton, OH  United States        NaN         NaN   \n",
       "\n",
       "               Airport.Code Airport.Name Injury.Severity  ...  \\\n",
       "Event.Id                                                  ...   \n",
       "20001218X45444          NaN          NaN        Fatal(2)  ...   \n",
       "20001218X45447          NaN          NaN        Fatal(4)  ...   \n",
       "20061025X01555          NaN          NaN        Fatal(3)  ...   \n",
       "20001218X45448          NaN          NaN        Fatal(2)  ...   \n",
       "20041105X01764          NaN          NaN        Fatal(1)  ...   \n",
       "\n",
       "               Purpose.of.flight Air.carrier Total.Fatal.Injuries  \\\n",
       "Event.Id                                                            \n",
       "20001218X45444          Personal         NaN                  2.0   \n",
       "20001218X45447          Personal         NaN                  4.0   \n",
       "20061025X01555          Personal         NaN                  3.0   \n",
       "20001218X45448          Personal         NaN                  2.0   \n",
       "20041105X01764          Personal         NaN                  1.0   \n",
       "\n",
       "               Total.Serious.Injuries Total.Minor.Injuries Total.Uninjured  \\\n",
       "Event.Id                                                                     \n",
       "20001218X45444                    0.0                  0.0             0.0   \n",
       "20001218X45447                    0.0                  0.0             0.0   \n",
       "20061025X01555                    NaN                  NaN             NaN   \n",
       "20001218X45448                    0.0                  0.0             0.0   \n",
       "20041105X01764                    2.0                  NaN             0.0   \n",
       "\n",
       "                Weather.Condition Broad.phase.of.flight   Report.Status  \\\n",
       "Event.Id                                                                  \n",
       "20001218X45444                UNK                Cruise  Probable Cause   \n",
       "20001218X45447                UNK               Unknown  Probable Cause   \n",
       "20061025X01555                IMC                Cruise  Probable Cause   \n",
       "20001218X45448                IMC                Cruise  Probable Cause   \n",
       "20041105X01764                VMC              Approach  Probable Cause   \n",
       "\n",
       "               Publication.Date  \n",
       "Event.Id                         \n",
       "20001218X45444              NaN  \n",
       "20001218X45447       19-09-1996  \n",
       "20061025X01555       26-02-2007  \n",
       "20001218X45448       12-09-2000  \n",
       "20041105X01764       16-04-1980  \n",
       "\n",
       "[5 rows x 30 columns]"
      ]
     },
     "execution_count": 36,
     "metadata": {},
     "output_type": "execute_result"
    }
   ],
   "source": [
    "av_df.head()"
   ]
  },
  {
   "cell_type": "code",
   "execution_count": 37,
   "id": "ed32dd3e-ba38-4047-9c01-ad2d0b9c4519",
   "metadata": {},
   "outputs": [
    {
     "name": "stdout",
     "output_type": "stream",
     "text": [
      "<class 'pandas.core.frame.DataFrame'>\n",
      "Index: 88889 entries, 20001218X45444 to 20221230106513\n",
      "Data columns (total 30 columns):\n",
      " #   Column                  Non-Null Count  Dtype  \n",
      "---  ------                  --------------  -----  \n",
      " 0   Investigation.Type      88889 non-null  object \n",
      " 1   Accident.Number         88889 non-null  object \n",
      " 2   Event.Date              88889 non-null  object \n",
      " 3   Location                88837 non-null  object \n",
      " 4   Country                 88663 non-null  object \n",
      " 5   Latitude                34382 non-null  object \n",
      " 6   Longitude               34373 non-null  object \n",
      " 7   Airport.Code            50132 non-null  object \n",
      " 8   Airport.Name            52704 non-null  object \n",
      " 9   Injury.Severity         87889 non-null  object \n",
      " 10  Aircraft.damage         85695 non-null  object \n",
      " 11  Aircraft.Category       32287 non-null  object \n",
      " 12  Registration.Number     87507 non-null  object \n",
      " 13  Make                    88826 non-null  object \n",
      " 14  Model                   88797 non-null  object \n",
      " 15  Amateur.Built           88787 non-null  object \n",
      " 16  Number.of.Engines       82805 non-null  float64\n",
      " 17  Engine.Type             81793 non-null  object \n",
      " 18  FAR.Description         32023 non-null  object \n",
      " 19  Schedule                12582 non-null  object \n",
      " 20  Purpose.of.flight       82697 non-null  object \n",
      " 21  Air.carrier             16648 non-null  object \n",
      " 22  Total.Fatal.Injuries    77488 non-null  float64\n",
      " 23  Total.Serious.Injuries  76379 non-null  float64\n",
      " 24  Total.Minor.Injuries    76956 non-null  float64\n",
      " 25  Total.Uninjured         82977 non-null  float64\n",
      " 26  Weather.Condition       84397 non-null  object \n",
      " 27  Broad.phase.of.flight   61724 non-null  object \n",
      " 28  Report.Status           82505 non-null  object \n",
      " 29  Publication.Date        75118 non-null  object \n",
      "dtypes: float64(5), object(25)\n",
      "memory usage: 21.0+ MB\n"
     ]
    }
   ],
   "source": [
    "av_df.info()"
   ]
  },
  {
   "cell_type": "code",
   "execution_count": 38,
   "id": "c07002b6-5864-44f6-84e3-adba7374978d",
   "metadata": {},
   "outputs": [
    {
     "data": {
      "text/plain": [
       "(88889, 30)"
      ]
     },
     "execution_count": 38,
     "metadata": {},
     "output_type": "execute_result"
    }
   ],
   "source": [
    "av_df.shape"
   ]
  },
  {
   "cell_type": "code",
   "execution_count": 39,
   "id": "aa82a162-c095-488e-bd26-b9fac71b4ad7",
   "metadata": {},
   "outputs": [
    {
     "data": {
      "text/plain": [
       "220"
      ]
     },
     "execution_count": 39,
     "metadata": {},
     "output_type": "execute_result"
    }
   ],
   "source": [
    "len(av_df.Country.unique()) #number of crountries\n",
    "#av_df.Country.unique()"
   ]
  },
  {
   "cell_type": "markdown",
   "id": "c9a7b3ec-485d-4d22-9934-5ea035895a27",
   "metadata": {},
   "source": [
    "Looking for duplicated rows"
   ]
  },
  {
   "cell_type": "code",
   "execution_count": 40,
   "id": "ad521f7a-b58a-4a73-b65b-3053db0c0520",
   "metadata": {},
   "outputs": [
    {
     "data": {
      "text/plain": [
       "0"
      ]
     },
     "execution_count": 40,
     "metadata": {},
     "output_type": "execute_result"
    }
   ],
   "source": [
    "av_df.duplicated().sum()"
   ]
  },
  {
   "cell_type": "markdown",
   "id": "2e9b8cc7",
   "metadata": {},
   "source": [
    "## Data Cleaning"
   ]
  },
  {
   "cell_type": "markdown",
   "id": "c23efd78",
   "metadata": {},
   "source": [
    "### Filtering aircrafts and events"
   ]
  },
  {
   "cell_type": "markdown",
   "id": "9c399343",
   "metadata": {},
   "source": [
    "We want to filter the dataset to include aircraft that the client is interested in an analysis of:\n",
    "- inspect relevant columns\n",
    "- figure out any reasonable imputations\n",
    "- filter the dataset"
   ]
  },
  {
   "cell_type": "markdown",
   "id": "0efd6dc4-9916-4841-8822-77e71b0ce233",
   "metadata": {},
   "source": [
    "Removing rows with Event.Date older than **1983**. Since the max life expected of an aircraft is only ~40 years, therefore the  older models are not useful to us in this analysis."
   ]
  },
  {
   "cell_type": "code",
   "execution_count": 41,
   "id": "35ffa434-86a7-45a0-971b-1ebff45381a5",
   "metadata": {},
   "outputs": [
    {
     "name": "stdout",
     "output_type": "stream",
     "text": [
      "1983-01-01 00:00:00 2022-12-29 00:00:00\n"
     ]
    }
   ],
   "source": [
    "#convert Event.Date to datetime format\n",
    "av_df['Event.Date'] = pd.to_datetime(av_df['Event.Date'], errors='coerce')\n",
    "\n",
    "#filter to include rows from 1/1/1983 and onward\n",
    "av_df = av_df[av_df['Event.Date'] >= '1983-01-01']\n",
    "av_df.shape\n",
    "print(av_df['Event.Date'].min(), av_df['Event.Date'].max())"
   ]
  },
  {
   "cell_type": "code",
   "execution_count": 42,
   "id": "0197538e-ca70-408b-afad-6a9cc54bb895",
   "metadata": {},
   "outputs": [
    {
     "data": {
      "text/plain": [
       "(85289, 30)"
      ]
     },
     "execution_count": 42,
     "metadata": {},
     "output_type": "execute_result"
    }
   ],
   "source": [
    "av_df.shape"
   ]
  },
  {
   "cell_type": "markdown",
   "id": "bf29a728-9da3-4791-b39b-11d5a2264778",
   "metadata": {},
   "source": [
    "That removed 3,600 rows from the Data Frame"
   ]
  },
  {
   "cell_type": "markdown",
   "id": "1cbc60b2-e108-4880-a236-588e806bf7b1",
   "metadata": {},
   "source": [
    "Exploring Amateur.Built column"
   ]
  },
  {
   "cell_type": "code",
   "execution_count": 43,
   "id": "b0bb21a6-2f4d-445a-8f71-a2319984daf9",
   "metadata": {},
   "outputs": [
    {
     "data": {
      "text/plain": [
       "array(['No', 'Yes', nan], dtype=object)"
      ]
     },
     "execution_count": 43,
     "metadata": {},
     "output_type": "execute_result"
    }
   ],
   "source": [
    "av_df['Amateur.Built'].unique()"
   ]
  },
  {
   "cell_type": "code",
   "execution_count": 44,
   "id": "1c04f4ca-59d4-4bc6-bf42-bb125466e29e",
   "metadata": {},
   "outputs": [
    {
     "data": {
      "text/plain": [
       "Amateur.Built\n",
       "No     76960\n",
       "Yes     8228\n",
       "NaN      101\n",
       "Name: count, dtype: int64"
      ]
     },
     "execution_count": 44,
     "metadata": {},
     "output_type": "execute_result"
    }
   ],
   "source": [
    "av_df['Amateur.Built'].value_counts(dropna=False)"
   ]
  },
  {
   "cell_type": "markdown",
   "id": "a05d248d-936d-4520-ac51-1f75d7e0f3d7",
   "metadata": {},
   "source": [
    "**Removing blank rows or rows containing 'Yes'** to eliminate non-professional builds from the dataset"
   ]
  },
  {
   "cell_type": "code",
   "execution_count": 45,
   "id": "942d08ca-d3f1-4af5-be11-0925703f1455",
   "metadata": {},
   "outputs": [
    {
     "data": {
      "text/plain": [
       "Amateur.Built\n",
       "No    76960\n",
       "Name: count, dtype: int64"
      ]
     },
     "execution_count": 45,
     "metadata": {},
     "output_type": "execute_result"
    }
   ],
   "source": [
    "av_df = av_df[\n",
    "    (av_df['Amateur.Built'] != 'Yes') & (av_df['Amateur.Built'].notna())]\n",
    "\n",
    "av_df['Amateur.Built'].value_counts() #checking they were removed"
   ]
  },
  {
   "cell_type": "markdown",
   "id": "4b0713dd-523b-4ac5-9547-d9a9b41c4597",
   "metadata": {},
   "source": [
    "Explore what type of aircrafts are in this dataset."
   ]
  },
  {
   "cell_type": "code",
   "execution_count": 46,
   "id": "c905f169-674b-4092-97a9-ffa7f58c8ffe",
   "metadata": {},
   "outputs": [
    {
     "data": {
      "text/plain": [
       "array([nan, 'Glider', 'Airplane', 'Helicopter', 'Blimp', 'Balloon',\n",
       "       'Gyrocraft', 'Ultralight', 'Powered-Lift', 'Weight-Shift',\n",
       "       'Powered Parachute', 'Unknown', 'Rocket', 'WSFT', 'UNK'],\n",
       "      dtype=object)"
      ]
     },
     "execution_count": 46,
     "metadata": {},
     "output_type": "execute_result"
    }
   ],
   "source": [
    "av_df['Aircraft.Category'].unique()"
   ]
  },
  {
   "cell_type": "code",
   "execution_count": 47,
   "id": "f95f7c23-b974-4772-9b71-0c06774fe063",
   "metadata": {},
   "outputs": [
    {
     "data": {
      "text/plain": [
       "Aircraft.Category\n",
       "NaN                  51555\n",
       "Airplane             21447\n",
       "Helicopter            3022\n",
       "Glider                 434\n",
       "Balloon                199\n",
       "Weight-Shift           139\n",
       "Powered Parachute       83\n",
       "Gyrocraft               31\n",
       "Ultralight              18\n",
       "Unknown                 11\n",
       "WSFT                     9\n",
       "Powered-Lift             5\n",
       "Blimp                    4\n",
       "UNK                      2\n",
       "Rocket                   1\n",
       "Name: count, dtype: int64"
      ]
     },
     "execution_count": 47,
     "metadata": {},
     "output_type": "execute_result"
    }
   ],
   "source": [
    "av_df['Aircraft.Category'].value_counts(dropna=False)"
   ]
  },
  {
   "cell_type": "markdown",
   "id": "8fb8b987-8f11-4b1f-b249-b94a6d5eaff6",
   "metadata": {},
   "source": [
    "Removing **noncommercial and nonprofessional** aircraft from dataset."
   ]
  },
  {
   "cell_type": "code",
   "execution_count": 48,
   "id": "14585312-ad59-40c4-bcf3-6a3b82c5fa7e",
   "metadata": {},
   "outputs": [],
   "source": [
    "#av_df=av_df.query(\"Aircraft.Category=='Airplane' or Aircraft.Category=='Helicopter'\").copy()\n",
    "av_df=av_df.query(\"`Aircraft.Category` == 'Airplane' or `Aircraft.Category` == 'Helicopter'\")"
   ]
  },
  {
   "cell_type": "code",
   "execution_count": 49,
   "id": "57d50603-0b9c-4b30-bbb9-f066fbe64144",
   "metadata": {},
   "outputs": [
    {
     "data": {
      "text/plain": [
       "Aircraft.Category\n",
       "Airplane      21447\n",
       "Helicopter     3022\n",
       "Name: count, dtype: int64"
      ]
     },
     "execution_count": 49,
     "metadata": {},
     "output_type": "execute_result"
    }
   ],
   "source": [
    "av_df['Aircraft.Category'].value_counts()"
   ]
  },
  {
   "cell_type": "markdown",
   "id": "36d26002",
   "metadata": {},
   "source": [
    "### Cleaning and constructing Key Measurables\n",
    "\n",
    "Injuries and robustness to destruction are a key interest point for the client. Clean and impute relevant columns and then create derived fields that best quantifies what the client wishes to track. **Use commenting or markdown to explain any cleaning assumptions as well as any derived columns you create.**"
   ]
  },
  {
   "cell_type": "markdown",
   "id": "070b08f8",
   "metadata": {},
   "source": [
    "**Construct metric for fatal/serious injuries**\n",
    "\n",
    "*Hint:* Estimate the total number of passengers on each flight. The likelihood of serious / fatal injury can be estimated as a fraction from this."
   ]
  },
  {
   "cell_type": "markdown",
   "id": "968993f4-baa6-430e-9593-5a09be8bd0b1",
   "metadata": {},
   "source": [
    "Exploring the 4 coulmns with containing numbers for injuried and uninjuried, it can be assumed that and NaNs can be filled with **0** instead of being blank."
   ]
  },
  {
   "cell_type": "code",
   "execution_count": 69,
   "id": "ef28a6d4",
   "metadata": {},
   "outputs": [
    {
     "data": {
      "text/plain": [
       "array([  0.,   1.,   4.,   3.,   2.,  12.,   9.,   6., 200.,   8.,   5.,\n",
       "        47.,  10.,  42.,  13.,   7.,  40.,  18.,  22.,  27.,  17.,  50.,\n",
       "        14.,  16.,  19.])"
      ]
     },
     "execution_count": 69,
     "metadata": {},
     "output_type": "execute_result"
    }
   ],
   "source": [
    "#av_df['Total.Fatal.Injuries'].unique()\n",
    "#av_df['Total.Serious.Injuries'].unique()\n",
    "av_df['Total.Minor.Injuries'].unique()\n",
    "#av_df['Total.Uninjured'].unique()"
   ]
  },
  {
   "cell_type": "code",
   "execution_count": 74,
   "id": "a9ba841c-ca67-4bbd-861b-19faa26160f3",
   "metadata": {},
   "outputs": [],
   "source": [
    "#changing Nan's to 0\n",
    "injury_cols=['Total.Fatal.Injuries','Total.Serious.Injuries','Total.Minor.Injuries','Total.Uninjured']\n",
    "\n",
    "av_df[injury_cols] = av_df[injury_cols].apply(pd.to_numeric, errors='coerce')\n",
    "\n",
    "av_df[injury_cols] = av_df[injury_cols].fillna(0)"
   ]
  },
  {
   "cell_type": "code",
   "execution_count": 75,
   "id": "97ad7fbd-6ab5-4f1d-aa22-65dce9b59b5a",
   "metadata": {},
   "outputs": [
    {
     "data": {
      "text/plain": [
       "array([  0.,   1.,  11.,  17.,   3.,   2.,  10.,   7.,   4.,  27.,  16.,\n",
       "        12.,   5.,  14.,  54.,   6., 160.,  97., 125., 228.,   9.,   8.,\n",
       "        13.,  18., 169., 131.,  24.,  20.,  65.,  19.,  26., 113., 154.,\n",
       "        30.,  88.,  49., 152.,  90.,  89., 103., 158., 157.,  42.,  21.,\n",
       "        77., 127.,  44.,  50.,  33., 239., 295.,  58., 162.,  43., 150.,\n",
       "       224.,  23.,  62.,  66.,  71., 112., 188.,  41., 176., 132.])"
      ]
     },
     "execution_count": 75,
     "metadata": {},
     "output_type": "execute_result"
    }
   ],
   "source": [
    "#Double checking it worked\n",
    "av_df['Total.Fatal.Injuries'].unique()\n",
    "#av_df['Total.Uninjured'].unique()"
   ]
  },
  {
   "cell_type": "markdown",
   "id": "887f17c1-158e-4d08-bdac-852d808f3db6",
   "metadata": {},
   "source": [
    "Calculating the total passangers on the flight per listing (for each row)\n",
    "-This is assuming the Total.Uninjured column is giving correct values"
   ]
  },
  {
   "cell_type": "code",
   "execution_count": 77,
   "id": "2dbfc221-0287-4020-bbf6-cfd6aa1281a0",
   "metadata": {},
   "outputs": [
    {
     "name": "stdout",
     "output_type": "stream",
     "text": [
      "Index(['Investigation.Type', 'Accident.Number', 'Event.Date', 'Location',\n",
      "       'Country', 'Latitude', 'Longitude', 'Airport.Code', 'Airport.Name',\n",
      "       'Injury.Severity', 'Aircraft.damage', 'Aircraft.Category',\n",
      "       'Registration.Number', 'Make', 'Model', 'Amateur.Built',\n",
      "       'Number.of.Engines', 'Engine.Type', 'FAR.Description', 'Schedule',\n",
      "       'Purpose.of.flight', 'Air.carrier', 'Total.Fatal.Injuries',\n",
      "       'Total.Serious.Injuries', 'Total.Minor.Injuries', 'Total.Uninjured',\n",
      "       'Total.Passangers', 'Weather.Condition', 'Broad.phase.of.flight',\n",
      "       'Report.Status', 'Publication.Date', 'Total.Passengers'],\n",
      "      dtype='object')\n"
     ]
    }
   ],
   "source": [
    "av_df['Total.Passengers']=(av_df['Total.Fatal.Injuries'] + av_df['Total.Serious.Injuries'] \n",
    "                         + av_df['Total.Minor.Injuries'] + av_df['Total.Uninjured'])\n",
    "print(av_df.columns)"
   ]
  },
  {
   "cell_type": "markdown",
   "id": "300443cd-6441-4f55-91f9-84f28886e2e6",
   "metadata": {},
   "source": [
    "Calculate the injury rate of **Fatal + Serious**, I've chosen not to include minor injuries b/c when I looked throught the dataset, on a handfull incidents have large numbers.  Also, I am making the assumption that an insurance company is not worried about minor injuries, but major ones where they could get sued."
   ]
  },
  {
   "cell_type": "code",
   "execution_count": 78,
   "id": "51b81e3c-8d9e-4ac3-849c-c4730b59bb23",
   "metadata": {},
   "outputs": [],
   "source": [
    "av_df['Fatal.Serious.Injury.Rate']=np.where(av_df['Total.Passengers'] > 0,\n",
    "    (av_df['Total.Fatal.Injuries'] + av_df['Total.Serious.Injuries'])/av_df['Total.Passengers'], np.nan)"
   ]
  },
  {
   "cell_type": "markdown",
   "id": "555a4244-8397-432c-a754-d07c1dc3e913",
   "metadata": {},
   "source": [
    "Now, I am changing the number values and **binning** them to make the more categorical"
   ]
  },
  {
   "cell_type": "code",
   "execution_count": 80,
   "id": "f7c8c26e-3ac8-4c18-9adc-9449fe690a80",
   "metadata": {},
   "outputs": [],
   "source": [
    "#Binning the data\n",
    "def categorize_risk(rate):\n",
    "    if pd.isna(rate):\n",
    "        return 'Unknown'\n",
    "    elif rate == 0:\n",
    "        return 'No Risk'\n",
    "    elif rate <= 0.25:\n",
    "        return 'Low Risk'\n",
    "    elif rate <= 0.75:\n",
    "        return 'Moderate Risk'\n",
    "    else:\n",
    "        return 'High Risk'\n",
    "\n",
    "av_df['Injury.Risk.Category']=av_df['Fatal.Serious.Injury.Rate'].apply(categorize_risk)"
   ]
  },
  {
   "cell_type": "code",
   "execution_count": 81,
   "id": "901ea2ec-1171-42fa-a73e-a64ce586f8db",
   "metadata": {},
   "outputs": [
    {
     "data": {
      "text/plain": [
       "Injury.Risk.Category\n",
       "No Risk          15493\n",
       "High Risk         6052\n",
       "Moderate Risk     1596\n",
       "Unknown            976\n",
       "Low Risk           352\n",
       "Name: count, dtype: int64"
      ]
     },
     "execution_count": 81,
     "metadata": {},
     "output_type": "execute_result"
    }
   ],
   "source": [
    "av_df['Injury.Risk.Category'].value_counts()"
   ]
  },
  {
   "cell_type": "markdown",
   "id": "abb40f3a-6f10-408b-bf69-8239ffd5e822",
   "metadata": {},
   "source": [
    "So I added 3 columns to the dataset, 'Total.Passengers','Fatal.Serious.Injury.Rate', 'Injury.Risk.Category' ~~Wooo"
   ]
  },
  {
   "cell_type": "markdown",
   "id": "6c89136b",
   "metadata": {},
   "source": [
    "**Aircraft.Damage**\n",
    "- identify and execute any cleaning tasks\n",
    "- construct a derived column tracking whether an aircraft was destroyed or not."
   ]
  },
  {
   "cell_type": "code",
   "execution_count": 88,
   "id": "91b518b1",
   "metadata": {},
   "outputs": [
    {
     "data": {
      "text/plain": [
       "array(['Minor', 'Destroyed', nan, 'Substantial', 'Unknown'], dtype=object)"
      ]
     },
     "execution_count": 88,
     "metadata": {},
     "output_type": "execute_result"
    }
   ],
   "source": [
    "av_df['Aircraft.damage'].unique()"
   ]
  },
  {
   "cell_type": "markdown",
   "id": "4b214a9e-c84a-465f-ad4c-adf12e0b290a",
   "metadata": {},
   "source": [
    "Lets see what the catagories are for Aircraft.damage"
   ]
  },
  {
   "cell_type": "code",
   "execution_count": 89,
   "id": "4d3656cd-19c8-4490-92c4-8fe48e6c7bba",
   "metadata": {},
   "outputs": [
    {
     "data": {
      "text/plain": [
       "Aircraft.damage\n",
       "Substantial    19414\n",
       "Destroyed       2772\n",
       "NaN             1296\n",
       "Minor            875\n",
       "Unknown          112\n",
       "Name: count, dtype: int64"
      ]
     },
     "execution_count": 89,
     "metadata": {},
     "output_type": "execute_result"
    }
   ],
   "source": [
    "av_df['Aircraft.damage'].value_counts(dropna=False)"
   ]
  },
  {
   "cell_type": "markdown",
   "id": "788d0582-780f-46c2-a002-b0394d1d5435",
   "metadata": {},
   "source": [
    "Removing rows from Aircraft.damage that contain Unknown or are blank.  Keeping row that contain **Destroyed, Substaintial, or Minor.**"
   ]
  },
  {
   "cell_type": "code",
   "execution_count": 92,
   "id": "59569aa4-237b-47f7-bcb7-d061b9428cc7",
   "metadata": {},
   "outputs": [
    {
     "data": {
      "text/plain": [
       "Aircraft.damage\n",
       "Substantial    19414\n",
       "Destroyed       2772\n",
       "Minor            875\n",
       "Name: count, dtype: int64"
      ]
     },
     "execution_count": 92,
     "metadata": {},
     "output_type": "execute_result"
    }
   ],
   "source": [
    "av_df = av_df.query(\"`Aircraft.damage` in ['Destroyed', 'Substantial', 'Minor']\")\n",
    "\n",
    "#removing rows not containing the 3 levels of damage\n",
    "av_df = av_df[av_df['Aircraft.damage'].isin(['Destroyed', 'Substantial', 'Minor'])]\n",
    "\n",
    "av_df['Aircraft.damage'].value_counts()"
   ]
  },
  {
   "cell_type": "markdown",
   "id": "e9d8af9b",
   "metadata": {},
   "source": [
    "### Investigate the *Make* column\n",
    "- Identify cleaning tasks here\n",
    "- List cleaning tasks clearly in markdown\n",
    "- Execute the cleaning tasks\n",
    "- For your analysis, keep Makes with a reasonable number (you can put the threshold at 50 though lower could work as well)"
   ]
  },
  {
   "cell_type": "code",
   "execution_count": 94,
   "id": "cf9005cf",
   "metadata": {},
   "outputs": [
    {
     "data": {
      "text/plain": [
       "array(['Lockheed', 'Boeing', 'Piper', ..., 'PHANTOM', 'JAMES R DERNOVSEK',\n",
       "       'ORLICAN S R O'], dtype=object)"
      ]
     },
     "execution_count": 94,
     "metadata": {},
     "output_type": "execute_result"
    }
   ],
   "source": [
    "av_df['Make'].unique()"
   ]
  },
  {
   "cell_type": "markdown",
   "id": "00b408b4-22fd-4aae-b529-0bbaa8f156bb",
   "metadata": {},
   "source": [
    "Drop missing or unknown rows from Make column"
   ]
  },
  {
   "cell_type": "code",
   "execution_count": 99,
   "id": "1ca366b6-c2fe-4d8b-a1ff-a2f304bee3bc",
   "metadata": {},
   "outputs": [],
   "source": [
    "#NaN\n",
    "av_df = av_df[av_df['Make'].notna()]\n",
    "\n",
    "#Eliminate white spaces and change all letters to uppercase to find all the unknowns\n",
    "#Eliminate such things as corp. vs corp\n",
    "av_df['Make'] = av_df['Make'].str.strip().str.upper().str.replace('.', '', regex=False)\n",
    "\n",
    "#remove all unknowns\n",
    "av_df = av_df[av_df['Make'] != 'UNKNOWN']"
   ]
  },
  {
   "cell_type": "code",
   "execution_count": 100,
   "id": "bf43812b-8747-46e1-b443-5235799758b5",
   "metadata": {},
   "outputs": [
    {
     "data": {
      "text/plain": [
       "(23058,)"
      ]
     },
     "execution_count": 100,
     "metadata": {},
     "output_type": "execute_result"
    }
   ],
   "source": [
    "av_df['Make'].shape"
   ]
  },
  {
   "cell_type": "markdown",
   "id": "9a773749-ddda-4a9e-a616-dff28b2c19da",
   "metadata": {},
   "source": [
    "Remove makes with less than 50 inccidents of accidents."
   ]
  },
  {
   "cell_type": "code",
   "execution_count": 101,
   "id": "63d61019-b5d9-474a-b761-2c5a1507dbcd",
   "metadata": {},
   "outputs": [],
   "source": [
    "make_counts = av_df['Make'].value_counts()\n",
    "valid_makes = make_counts[make_counts >= 50].index\n",
    "av_df = av_df[av_df['Make'].isin(valid_makes)]"
   ]
  },
  {
   "cell_type": "code",
   "execution_count": 102,
   "id": "63369f1d-c5da-4ed7-a5f7-963cec7268fb",
   "metadata": {},
   "outputs": [
    {
     "data": {
      "text/plain": [
       "(19154,)"
      ]
     },
     "execution_count": 102,
     "metadata": {},
     "output_type": "execute_result"
    }
   ],
   "source": [
    "av_df['Make'].shape"
   ]
  },
  {
   "cell_type": "markdown",
   "id": "6ed9f3c2",
   "metadata": {},
   "source": [
    "### Inspect Model column\n",
    "- Get rid of any **NaNs**.\n",
    "- Inspect the column and counts for each model/make. Are model labels unique to each make?\n",
    "- If not, create a derived column that is a unique identifier for a given plane type."
   ]
  },
  {
   "cell_type": "code",
   "execution_count": 113,
   "id": "05f20594",
   "metadata": {},
   "outputs": [
    {
     "data": {
      "text/plain": [
       "Model\n",
       "172          752\n",
       "152          309\n",
       "182          300\n",
       "R44          295\n",
       "172S         269\n",
       "            ... \n",
       "AT-6G          1\n",
       "BF12           1\n",
       "S-55           1\n",
       "PA-46-31P      1\n",
       "PA-44          1\n",
       "Name: count, Length: 2199, dtype: int64"
      ]
     },
     "execution_count": 113,
     "metadata": {},
     "output_type": "execute_result"
    }
   ],
   "source": [
    "av_df['Model'].value_counts()"
   ]
  },
  {
   "cell_type": "markdown",
   "id": "195be4a4-595f-40c1-8ff8-65cb2ad5cda3",
   "metadata": {},
   "source": [
    "Drop missing or unknown rows from Model column"
   ]
  },
  {
   "cell_type": "code",
   "execution_count": 114,
   "id": "9aeb0bd6-39fd-460c-a694-24288a7e9216",
   "metadata": {},
   "outputs": [
    {
     "data": {
      "text/plain": [
       "Model\n",
       "172          752\n",
       "152          309\n",
       "182          300\n",
       "R44          295\n",
       "172S         269\n",
       "            ... \n",
       "AT-6G          1\n",
       "BF12           1\n",
       "S-55           1\n",
       "PA-46-31P      1\n",
       "PA-44          1\n",
       "Name: count, Length: 2199, dtype: int64"
      ]
     },
     "execution_count": 114,
     "metadata": {},
     "output_type": "execute_result"
    }
   ],
   "source": [
    "av_df = av_df.dropna(subset=['Model'])\n",
    "av_df['Model'].value_counts()"
   ]
  },
  {
   "cell_type": "code",
   "execution_count": 108,
   "id": "031b8668-0afb-4c4d-8a87-b627ef048210",
   "metadata": {},
   "outputs": [],
   "source": [
    "#make all uppercase to find all unkowns\n",
    "av_df['Make'] = av_df['Make'].str.strip().str.upper()\n",
    "\n",
    "#remove all unknowns\n",
    "av_df = av_df[av_df['Make'] != 'UNKNOWN']"
   ]
  },
  {
   "cell_type": "markdown",
   "id": "62c9fc18-6fc8-4e8f-8350-8baf94d803b3",
   "metadata": {},
   "source": [
    "Checking if model names used by more than 1 manufacturer"
   ]
  },
  {
   "cell_type": "code",
   "execution_count": 118,
   "id": "d7146116-facf-4a77-a77d-aec2f567709c",
   "metadata": {},
   "outputs": [
    {
     "data": {
      "text/plain": [
       "Event.Id\n",
       "20001214X42478   NaN\n",
       "20001214X42331   NaN\n",
       "20001214X45013   NaN\n",
       "20001214X45188   NaN\n",
       "20001214X45339   NaN\n",
       "                  ..\n",
       "20221212106444   NaN\n",
       "20221213106455   NaN\n",
       "20221215106463   NaN\n",
       "20221219106470   NaN\n",
       "20221227106497   NaN\n",
       "Name: model.make.counts, Length: 19141, dtype: float64"
      ]
     },
     "execution_count": 118,
     "metadata": {},
     "output_type": "execute_result"
    }
   ],
   "source": [
    "av_df['model.make.counts']=av_df.groupby('Model')['Make'].nunique()"
   ]
  },
  {
   "cell_type": "markdown",
   "id": "9a173ebd",
   "metadata": {},
   "source": [
    "### Cleaning other columns\n",
    "- there are other columns containing data that might be related to the outcome of an accident. We list a few here:\n",
    "- Engine.Type\n",
    "- Weather.Condition\n",
    "- Number.of.Engines\n",
    "- Purpose.of.flight\n",
    "- Broad.phase.of.flight\n",
    "\n",
    "Inspect and identify potential cleaning tasks in each of the above columns. Execute those cleaning tasks. \n",
    "\n",
    "**Note**: You do not necessarily need to impute or drop NaNs here."
   ]
  },
  {
   "cell_type": "code",
   "execution_count": null,
   "id": "01df492e",
   "metadata": {},
   "outputs": [],
   "source": []
  },
  {
   "cell_type": "markdown",
   "id": "12ad63d9",
   "metadata": {},
   "source": [
    "### Column Removal\n",
    "- inspect the dataframe and drop any columns that have too many NaNs"
   ]
  },
  {
   "cell_type": "code",
   "execution_count": null,
   "id": "496706f5-140b-40b9-9fe0-a92fed8df813",
   "metadata": {},
   "outputs": [],
   "source": [
    "Checking to see which columns contain the most **blanks cells**"
   ]
  },
  {
   "cell_type": "code",
   "execution_count": null,
   "id": "3bcec528-96c2-4607-8265-a7d10f8534ff",
   "metadata": {},
   "outputs": [],
   "source": [
    "col_percent_missing=av_df.isna().mean() * 100\n",
    "print(col_percent_missing.sort_values(ascending=False))"
   ]
  },
  {
   "cell_type": "code",
   "execution_count": null,
   "id": "f661bb21",
   "metadata": {},
   "outputs": [],
   "source": [
    "drop log, lat, airport.code"
   ]
  },
  {
   "cell_type": "markdown",
   "id": "750d48f1",
   "metadata": {},
   "source": [
    "### Save DataFrame to csv\n",
    "- its generally useful to save data to file/server after its in a sufficiently cleaned or intermediate state\n",
    "- the data can then be loaded directly in another notebook for further analysis\n",
    "- this helps keep your notebooks and workflow readable, clean and modularized"
   ]
  },
  {
   "cell_type": "code",
   "execution_count": null,
   "id": "b425a512",
   "metadata": {},
   "outputs": [],
   "source": [
    "av_df.to_csv('Cleaned_AviationData.csv', index=False)"
   ]
  }
 ],
 "metadata": {
  "kernelspec": {
   "display_name": "Python 3 (ipykernel)",
   "language": "python",
   "name": "python3"
  },
  "language_info": {
   "codemirror_mode": {
    "name": "ipython",
    "version": 3
   },
   "file_extension": ".py",
   "mimetype": "text/x-python",
   "name": "python",
   "nbconvert_exporter": "python",
   "pygments_lexer": "ipython3",
   "version": "3.12.4"
  }
 },
 "nbformat": 4,
 "nbformat_minor": 5
}
