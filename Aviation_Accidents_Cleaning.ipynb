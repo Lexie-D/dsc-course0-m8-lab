{
 "cells": [
  {
   "cell_type": "markdown",
   "id": "d7485d62",
   "metadata": {},
   "source": [
    "# Aviation Accidents Analysis\n",
    "\n",
    "You are part of a consulting firm that is tasked to do an analysis of commercial and passenger jet airline safety. The client (an airline/airplane insurer) is interested in knowing what types of aircraft (makes/models) exhibit low rates of total destruction and low likelihood of fatal or serious passenger injuries in the event of an accident. They are also interested in any general variables/conditions that might be at play. Your analysis will be based off of aviation accident data accumulated from the years 1948-2023. \n",
    "\n",
    "Our client is only interested in airplane makes/models that are professional builds and could potentially still be active. Assume a max lifetime of 40 years for a make/model retirement and make sure to filter your data accordingly (i.e. from 1983 onwards). They would also like separate recommendations for small aircraft vs. larger passenger models. **In addition, make sure that claims that you make are statistically robust and that you have enough samples when making comparisons between groups.**\n",
    "\n",
    "\n",
    "In this summative assessment you will demonstrate your ability to:\n",
    "- **Use Pandas to load, inspect, and clean the dataset appropriately.**\n",
    "- **Transform relevant columns to create measures that address the problem at hand.**\n",
    "- conduct EDA: visualization and statistical measures to systematically understand the structure of the data\n",
    "- recommend a set of airplanes and makes conforming to the client's request and identify at least *two* factors contributing to airplane safety. You must provide supporting evidence (visuals, summary statistics, tables) for each claim you make."
   ]
  },
  {
   "cell_type": "markdown",
   "id": "73e582c5",
   "metadata": {},
   "source": [
    "### Make relevant library imports"
   ]
  },
  {
   "cell_type": "code",
   "execution_count": 1,
   "id": "32291488-262f-49ec-b229-becdc6dbfd22",
   "metadata": {},
   "outputs": [],
   "source": [
    "import pandas as pd\n",
    "import numpy as np\n",
    "import matplotlib.pyplot as plt\n",
    "import seaborn as sns"
   ]
  },
  {
   "cell_type": "markdown",
   "id": "5b1fc321",
   "metadata": {},
   "source": [
    "## Data Loading and Inspection"
   ]
  },
  {
   "cell_type": "markdown",
   "id": "57becc28",
   "metadata": {},
   "source": [
    "### Load in data from the relevant directory and inspect the dataframe.\n",
    "- inspect NaNs, datatypes, and summary statistics"
   ]
  },
  {
   "cell_type": "code",
   "execution_count": 5,
   "id": "85235fa7",
   "metadata": {},
   "outputs": [],
   "source": [
    "av_df=pd.read_csv('AviationData.csv', index_col=0, encoding='latin1', low_memory=False)"
   ]
  },
  {
   "cell_type": "code",
   "execution_count": 6,
   "id": "00a29005-1472-484b-8496-27c5e9dab26c",
   "metadata": {},
   "outputs": [
    {
     "data": {
      "text/html": [
       "<div>\n",
       "<style scoped>\n",
       "    .dataframe tbody tr th:only-of-type {\n",
       "        vertical-align: middle;\n",
       "    }\n",
       "\n",
       "    .dataframe tbody tr th {\n",
       "        vertical-align: top;\n",
       "    }\n",
       "\n",
       "    .dataframe thead th {\n",
       "        text-align: right;\n",
       "    }\n",
       "</style>\n",
       "<table border=\"1\" class=\"dataframe\">\n",
       "  <thead>\n",
       "    <tr style=\"text-align: right;\">\n",
       "      <th></th>\n",
       "      <th>Investigation.Type</th>\n",
       "      <th>Accident.Number</th>\n",
       "      <th>Event.Date</th>\n",
       "      <th>Location</th>\n",
       "      <th>Country</th>\n",
       "      <th>Latitude</th>\n",
       "      <th>Longitude</th>\n",
       "      <th>Airport.Code</th>\n",
       "      <th>Airport.Name</th>\n",
       "      <th>Injury.Severity</th>\n",
       "      <th>...</th>\n",
       "      <th>Purpose.of.flight</th>\n",
       "      <th>Air.carrier</th>\n",
       "      <th>Total.Fatal.Injuries</th>\n",
       "      <th>Total.Serious.Injuries</th>\n",
       "      <th>Total.Minor.Injuries</th>\n",
       "      <th>Total.Uninjured</th>\n",
       "      <th>Weather.Condition</th>\n",
       "      <th>Broad.phase.of.flight</th>\n",
       "      <th>Report.Status</th>\n",
       "      <th>Publication.Date</th>\n",
       "    </tr>\n",
       "    <tr>\n",
       "      <th>Event.Id</th>\n",
       "      <th></th>\n",
       "      <th></th>\n",
       "      <th></th>\n",
       "      <th></th>\n",
       "      <th></th>\n",
       "      <th></th>\n",
       "      <th></th>\n",
       "      <th></th>\n",
       "      <th></th>\n",
       "      <th></th>\n",
       "      <th></th>\n",
       "      <th></th>\n",
       "      <th></th>\n",
       "      <th></th>\n",
       "      <th></th>\n",
       "      <th></th>\n",
       "      <th></th>\n",
       "      <th></th>\n",
       "      <th></th>\n",
       "      <th></th>\n",
       "      <th></th>\n",
       "    </tr>\n",
       "  </thead>\n",
       "  <tbody>\n",
       "    <tr>\n",
       "      <th>20001218X45444</th>\n",
       "      <td>Accident</td>\n",
       "      <td>SEA87LA080</td>\n",
       "      <td>1948-10-24</td>\n",
       "      <td>MOOSE CREEK, ID</td>\n",
       "      <td>United States</td>\n",
       "      <td>NaN</td>\n",
       "      <td>NaN</td>\n",
       "      <td>NaN</td>\n",
       "      <td>NaN</td>\n",
       "      <td>Fatal(2)</td>\n",
       "      <td>...</td>\n",
       "      <td>Personal</td>\n",
       "      <td>NaN</td>\n",
       "      <td>2.0</td>\n",
       "      <td>0.0</td>\n",
       "      <td>0.0</td>\n",
       "      <td>0.0</td>\n",
       "      <td>UNK</td>\n",
       "      <td>Cruise</td>\n",
       "      <td>Probable Cause</td>\n",
       "      <td>NaN</td>\n",
       "    </tr>\n",
       "    <tr>\n",
       "      <th>20001218X45447</th>\n",
       "      <td>Accident</td>\n",
       "      <td>LAX94LA336</td>\n",
       "      <td>1962-07-19</td>\n",
       "      <td>BRIDGEPORT, CA</td>\n",
       "      <td>United States</td>\n",
       "      <td>NaN</td>\n",
       "      <td>NaN</td>\n",
       "      <td>NaN</td>\n",
       "      <td>NaN</td>\n",
       "      <td>Fatal(4)</td>\n",
       "      <td>...</td>\n",
       "      <td>Personal</td>\n",
       "      <td>NaN</td>\n",
       "      <td>4.0</td>\n",
       "      <td>0.0</td>\n",
       "      <td>0.0</td>\n",
       "      <td>0.0</td>\n",
       "      <td>UNK</td>\n",
       "      <td>Unknown</td>\n",
       "      <td>Probable Cause</td>\n",
       "      <td>19-09-1996</td>\n",
       "    </tr>\n",
       "    <tr>\n",
       "      <th>20061025X01555</th>\n",
       "      <td>Accident</td>\n",
       "      <td>NYC07LA005</td>\n",
       "      <td>1974-08-30</td>\n",
       "      <td>Saltville, VA</td>\n",
       "      <td>United States</td>\n",
       "      <td>36.922223</td>\n",
       "      <td>-81.878056</td>\n",
       "      <td>NaN</td>\n",
       "      <td>NaN</td>\n",
       "      <td>Fatal(3)</td>\n",
       "      <td>...</td>\n",
       "      <td>Personal</td>\n",
       "      <td>NaN</td>\n",
       "      <td>3.0</td>\n",
       "      <td>NaN</td>\n",
       "      <td>NaN</td>\n",
       "      <td>NaN</td>\n",
       "      <td>IMC</td>\n",
       "      <td>Cruise</td>\n",
       "      <td>Probable Cause</td>\n",
       "      <td>26-02-2007</td>\n",
       "    </tr>\n",
       "    <tr>\n",
       "      <th>20001218X45448</th>\n",
       "      <td>Accident</td>\n",
       "      <td>LAX96LA321</td>\n",
       "      <td>1977-06-19</td>\n",
       "      <td>EUREKA, CA</td>\n",
       "      <td>United States</td>\n",
       "      <td>NaN</td>\n",
       "      <td>NaN</td>\n",
       "      <td>NaN</td>\n",
       "      <td>NaN</td>\n",
       "      <td>Fatal(2)</td>\n",
       "      <td>...</td>\n",
       "      <td>Personal</td>\n",
       "      <td>NaN</td>\n",
       "      <td>2.0</td>\n",
       "      <td>0.0</td>\n",
       "      <td>0.0</td>\n",
       "      <td>0.0</td>\n",
       "      <td>IMC</td>\n",
       "      <td>Cruise</td>\n",
       "      <td>Probable Cause</td>\n",
       "      <td>12-09-2000</td>\n",
       "    </tr>\n",
       "    <tr>\n",
       "      <th>20041105X01764</th>\n",
       "      <td>Accident</td>\n",
       "      <td>CHI79FA064</td>\n",
       "      <td>1979-08-02</td>\n",
       "      <td>Canton, OH</td>\n",
       "      <td>United States</td>\n",
       "      <td>NaN</td>\n",
       "      <td>NaN</td>\n",
       "      <td>NaN</td>\n",
       "      <td>NaN</td>\n",
       "      <td>Fatal(1)</td>\n",
       "      <td>...</td>\n",
       "      <td>Personal</td>\n",
       "      <td>NaN</td>\n",
       "      <td>1.0</td>\n",
       "      <td>2.0</td>\n",
       "      <td>NaN</td>\n",
       "      <td>0.0</td>\n",
       "      <td>VMC</td>\n",
       "      <td>Approach</td>\n",
       "      <td>Probable Cause</td>\n",
       "      <td>16-04-1980</td>\n",
       "    </tr>\n",
       "  </tbody>\n",
       "</table>\n",
       "<p>5 rows × 30 columns</p>\n",
       "</div>"
      ],
      "text/plain": [
       "               Investigation.Type Accident.Number  Event.Date  \\\n",
       "Event.Id                                                        \n",
       "20001218X45444           Accident      SEA87LA080  1948-10-24   \n",
       "20001218X45447           Accident      LAX94LA336  1962-07-19   \n",
       "20061025X01555           Accident      NYC07LA005  1974-08-30   \n",
       "20001218X45448           Accident      LAX96LA321  1977-06-19   \n",
       "20041105X01764           Accident      CHI79FA064  1979-08-02   \n",
       "\n",
       "                       Location        Country   Latitude   Longitude  \\\n",
       "Event.Id                                                                \n",
       "20001218X45444  MOOSE CREEK, ID  United States        NaN         NaN   \n",
       "20001218X45447   BRIDGEPORT, CA  United States        NaN         NaN   \n",
       "20061025X01555    Saltville, VA  United States  36.922223  -81.878056   \n",
       "20001218X45448       EUREKA, CA  United States        NaN         NaN   \n",
       "20041105X01764       Canton, OH  United States        NaN         NaN   \n",
       "\n",
       "               Airport.Code Airport.Name Injury.Severity  ...  \\\n",
       "Event.Id                                                  ...   \n",
       "20001218X45444          NaN          NaN        Fatal(2)  ...   \n",
       "20001218X45447          NaN          NaN        Fatal(4)  ...   \n",
       "20061025X01555          NaN          NaN        Fatal(3)  ...   \n",
       "20001218X45448          NaN          NaN        Fatal(2)  ...   \n",
       "20041105X01764          NaN          NaN        Fatal(1)  ...   \n",
       "\n",
       "               Purpose.of.flight Air.carrier Total.Fatal.Injuries  \\\n",
       "Event.Id                                                            \n",
       "20001218X45444          Personal         NaN                  2.0   \n",
       "20001218X45447          Personal         NaN                  4.0   \n",
       "20061025X01555          Personal         NaN                  3.0   \n",
       "20001218X45448          Personal         NaN                  2.0   \n",
       "20041105X01764          Personal         NaN                  1.0   \n",
       "\n",
       "               Total.Serious.Injuries Total.Minor.Injuries Total.Uninjured  \\\n",
       "Event.Id                                                                     \n",
       "20001218X45444                    0.0                  0.0             0.0   \n",
       "20001218X45447                    0.0                  0.0             0.0   \n",
       "20061025X01555                    NaN                  NaN             NaN   \n",
       "20001218X45448                    0.0                  0.0             0.0   \n",
       "20041105X01764                    2.0                  NaN             0.0   \n",
       "\n",
       "                Weather.Condition Broad.phase.of.flight   Report.Status  \\\n",
       "Event.Id                                                                  \n",
       "20001218X45444                UNK                Cruise  Probable Cause   \n",
       "20001218X45447                UNK               Unknown  Probable Cause   \n",
       "20061025X01555                IMC                Cruise  Probable Cause   \n",
       "20001218X45448                IMC                Cruise  Probable Cause   \n",
       "20041105X01764                VMC              Approach  Probable Cause   \n",
       "\n",
       "               Publication.Date  \n",
       "Event.Id                         \n",
       "20001218X45444              NaN  \n",
       "20001218X45447       19-09-1996  \n",
       "20061025X01555       26-02-2007  \n",
       "20001218X45448       12-09-2000  \n",
       "20041105X01764       16-04-1980  \n",
       "\n",
       "[5 rows x 30 columns]"
      ]
     },
     "execution_count": 6,
     "metadata": {},
     "output_type": "execute_result"
    }
   ],
   "source": [
    "av_df.head()"
   ]
  },
  {
   "cell_type": "code",
   "execution_count": 7,
   "id": "ed32dd3e-ba38-4047-9c01-ad2d0b9c4519",
   "metadata": {},
   "outputs": [
    {
     "name": "stdout",
     "output_type": "stream",
     "text": [
      "<class 'pandas.core.frame.DataFrame'>\n",
      "Index: 88889 entries, 20001218X45444 to 20221230106513\n",
      "Data columns (total 30 columns):\n",
      " #   Column                  Non-Null Count  Dtype  \n",
      "---  ------                  --------------  -----  \n",
      " 0   Investigation.Type      88889 non-null  object \n",
      " 1   Accident.Number         88889 non-null  object \n",
      " 2   Event.Date              88889 non-null  object \n",
      " 3   Location                88837 non-null  object \n",
      " 4   Country                 88663 non-null  object \n",
      " 5   Latitude                34382 non-null  object \n",
      " 6   Longitude               34373 non-null  object \n",
      " 7   Airport.Code            50132 non-null  object \n",
      " 8   Airport.Name            52704 non-null  object \n",
      " 9   Injury.Severity         87889 non-null  object \n",
      " 10  Aircraft.damage         85695 non-null  object \n",
      " 11  Aircraft.Category       32287 non-null  object \n",
      " 12  Registration.Number     87507 non-null  object \n",
      " 13  Make                    88826 non-null  object \n",
      " 14  Model                   88797 non-null  object \n",
      " 15  Amateur.Built           88787 non-null  object \n",
      " 16  Number.of.Engines       82805 non-null  float64\n",
      " 17  Engine.Type             81793 non-null  object \n",
      " 18  FAR.Description         32023 non-null  object \n",
      " 19  Schedule                12582 non-null  object \n",
      " 20  Purpose.of.flight       82697 non-null  object \n",
      " 21  Air.carrier             16648 non-null  object \n",
      " 22  Total.Fatal.Injuries    77488 non-null  float64\n",
      " 23  Total.Serious.Injuries  76379 non-null  float64\n",
      " 24  Total.Minor.Injuries    76956 non-null  float64\n",
      " 25  Total.Uninjured         82977 non-null  float64\n",
      " 26  Weather.Condition       84397 non-null  object \n",
      " 27  Broad.phase.of.flight   61724 non-null  object \n",
      " 28  Report.Status           82505 non-null  object \n",
      " 29  Publication.Date        75118 non-null  object \n",
      "dtypes: float64(5), object(25)\n",
      "memory usage: 21.0+ MB\n"
     ]
    }
   ],
   "source": [
    "av_df.info()"
   ]
  },
  {
   "cell_type": "code",
   "execution_count": 11,
   "id": "aa82a162-c095-488e-bd26-b9fac71b4ad7",
   "metadata": {},
   "outputs": [
    {
     "data": {
      "text/plain": [
       "220"
      ]
     },
     "execution_count": 11,
     "metadata": {},
     "output_type": "execute_result"
    }
   ],
   "source": [
    "len(av_df.Country.unique()) #number of crountries\n",
    "#av_df.Country.unique()"
   ]
  },
  {
   "cell_type": "code",
   "execution_count": null,
   "id": "11109fd7-289e-4bf0-9d0b-0691aab4a596",
   "metadata": {},
   "outputs": [],
   "source": [
    "Removing rows with Event.Date older than "
   ]
  },
  {
   "cell_type": "code",
   "execution_count": null,
   "id": "35ffa434-86a7-45a0-971b-1ebff45381a5",
   "metadata": {},
   "outputs": [],
   "source": [
    "#convert Event.Date to datetime format\n",
    "av_df['Event.Date'] = pd.to_datetime(av_df['Event.Date'], errors='coerce')"
   ]
  },
  {
   "cell_type": "markdown",
   "id": "2e9b8cc7",
   "metadata": {},
   "source": [
    "## Data Cleaning"
   ]
  },
  {
   "cell_type": "markdown",
   "id": "c23efd78",
   "metadata": {},
   "source": [
    "### Filtering aircrafts and events"
   ]
  },
  {
   "cell_type": "markdown",
   "id": "9c399343",
   "metadata": {},
   "source": [
    "We want to filter the dataset to include aircraft that the client is interested in an analysis of:\n",
    "- inspect relevant columns\n",
    "- figure out any reasonable imputations\n",
    "- filter the dataset"
   ]
  },
  {
   "cell_type": "code",
   "execution_count": null,
   "id": "5a2b7eab",
   "metadata": {},
   "outputs": [],
   "source": []
  },
  {
   "cell_type": "markdown",
   "id": "36d26002",
   "metadata": {},
   "source": [
    "### Cleaning and constructing Key Measurables\n",
    "\n",
    "Injuries and robustness to destruction are a key interest point for the client. Clean and impute relevant columns and then create derived fields that best quantifies what the client wishes to track. **Use commenting or markdown to explain any cleaning assumptions as well as any derived columns you create.**"
   ]
  },
  {
   "cell_type": "markdown",
   "id": "070b08f8",
   "metadata": {},
   "source": [
    "**Construct metric for fatal/serious injuries**\n",
    "\n",
    "*Hint:* Estimate the total number of passengers on each flight. The likelihood of serious / fatal injury can be estimated as a fraction from this."
   ]
  },
  {
   "cell_type": "code",
   "execution_count": null,
   "id": "ef28a6d4",
   "metadata": {},
   "outputs": [],
   "source": []
  },
  {
   "cell_type": "markdown",
   "id": "6c89136b",
   "metadata": {},
   "source": [
    "**Aircraft.Damage**\n",
    "- identify and execute any cleaning tasks\n",
    "- construct a derived column tracking whether an aircraft was destroyed or not."
   ]
  },
  {
   "cell_type": "code",
   "execution_count": null,
   "id": "91b518b1",
   "metadata": {},
   "outputs": [],
   "source": []
  },
  {
   "cell_type": "markdown",
   "id": "e9d8af9b",
   "metadata": {},
   "source": [
    "### Investigate the *Make* column\n",
    "- Identify cleaning tasks here\n",
    "- List cleaning tasks clearly in markdown\n",
    "- Execute the cleaning tasks\n",
    "- For your analysis, keep Makes with a reasonable number (you can put the threshold at 50 though lower could work as well)"
   ]
  },
  {
   "cell_type": "code",
   "execution_count": null,
   "id": "cf9005cf",
   "metadata": {},
   "outputs": [],
   "source": []
  },
  {
   "cell_type": "markdown",
   "id": "6ed9f3c2",
   "metadata": {},
   "source": [
    "### Inspect Model column\n",
    "- Get rid of any NaNs.\n",
    "- Inspect the column and counts for each model/make. Are model labels unique to each make?\n",
    "- If not, create a derived column that is a unique identifier for a given plane type."
   ]
  },
  {
   "cell_type": "code",
   "execution_count": null,
   "id": "05f20594",
   "metadata": {},
   "outputs": [],
   "source": []
  },
  {
   "cell_type": "markdown",
   "id": "9a173ebd",
   "metadata": {},
   "source": [
    "### Cleaning other columns\n",
    "- there are other columns containing data that might be related to the outcome of an accident. We list a few here:\n",
    "- Engine.Type\n",
    "- Weather.Condition\n",
    "- Number.of.Engines\n",
    "- Purpose.of.flight\n",
    "- Broad.phase.of.flight\n",
    "\n",
    "Inspect and identify potential cleaning tasks in each of the above columns. Execute those cleaning tasks. \n",
    "\n",
    "**Note**: You do not necessarily need to impute or drop NaNs here."
   ]
  },
  {
   "cell_type": "code",
   "execution_count": null,
   "id": "01df492e",
   "metadata": {},
   "outputs": [],
   "source": []
  },
  {
   "cell_type": "markdown",
   "id": "12ad63d9",
   "metadata": {},
   "source": [
    "### Column Removal\n",
    "- inspect the dataframe and drop any columns that have too many NaNs"
   ]
  },
  {
   "cell_type": "code",
   "execution_count": null,
   "id": "f661bb21",
   "metadata": {},
   "outputs": [],
   "source": []
  },
  {
   "cell_type": "markdown",
   "id": "750d48f1",
   "metadata": {},
   "source": [
    "### Save DataFrame to csv\n",
    "- its generally useful to save data to file/server after its in a sufficiently cleaned or intermediate state\n",
    "- the data can then be loaded directly in another notebook for further analysis\n",
    "- this helps keep your notebooks and workflow readable, clean and modularized"
   ]
  },
  {
   "cell_type": "code",
   "execution_count": 1754,
   "id": "b425a512",
   "metadata": {},
   "outputs": [],
   "source": []
  }
 ],
 "metadata": {
  "kernelspec": {
   "display_name": "Python 3 (ipykernel)",
   "language": "python",
   "name": "python3"
  },
  "language_info": {
   "codemirror_mode": {
    "name": "ipython",
    "version": 3
   },
   "file_extension": ".py",
   "mimetype": "text/x-python",
   "name": "python",
   "nbconvert_exporter": "python",
   "pygments_lexer": "ipython3",
   "version": "3.12.4"
  }
 },
 "nbformat": 4,
 "nbformat_minor": 5
}
