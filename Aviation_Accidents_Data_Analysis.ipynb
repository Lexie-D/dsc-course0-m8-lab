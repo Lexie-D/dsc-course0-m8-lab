{
 "cells": [
  {
   "cell_type": "markdown",
   "id": "90b31a8c",
   "metadata": {},
   "source": [
    "# Aviation Accidents Analysis\n",
    "\n",
    "You are part of a consulting firm that is tasked to do an analysis of commercial and passenger jet airline safety. The client (an airline/airplane insurer) is interested in knowing what types of aircraft (makes/models) exhibit low rates of total destruction and low likelihood of fatal or serious passenger injuries in the event of an accident. They are also interested in any general variables/conditions that might be at play. Your analysis will be based off of aviation accident data accumulated from the years 1948-2023. \n",
    "\n",
    "Our client is only interested in airplane makes/models that are professional builds and could potentially still be active. Assume a max lifetime of 40 years for a make/model retirement and make sure to filter your data accordingly (i.e. from 1983 onwards). They would also like separate recommendations for small aircraft vs. larger passenger models. **In addition, make sure that claims that you make are statistically robust and that you have enough samples when making comparisons between groups.**\n",
    "\n",
    "\n",
    "In this summative assessment you will demonstrate your ability to:\n",
    "- Use Pandas to load, inspect, and clean the dataset appropriately. \n",
    "- Transform relevant columns to create measures that address the problem at hand.\n",
    "- **conduct EDA: visualization and statistical measures to understand the structure of the data**\n",
    "- **recommend a set of manufacturers to consider as well as specific airplanes conforming to the client's request**\n",
    "- **discuss the relationship between serious injuries/airplane damage incurred and at least *two* factors at play in the incident. You must provide supporting evidence (visuals, summary statistics, tables) for each claim you make.**"
   ]
  },
  {
   "cell_type": "code",
   "execution_count": 1,
   "id": "f41a5544",
   "metadata": {},
   "outputs": [],
   "source": [
    "# loading relevant packages\n",
    "import pandas as pd\n",
    "import numpy as np\n",
    "import matplotlib.pyplot as plt\n",
    "import seaborn as sns"
   ]
  },
  {
   "cell_type": "markdown",
   "id": "e5ce8ff6",
   "metadata": {},
   "source": [
    "## Exploratory Data Analysis  \n",
    "- Load in the cleaned data"
   ]
  },
  {
   "cell_type": "code",
   "execution_count": 4,
   "id": "149894c6",
   "metadata": {},
   "outputs": [],
   "source": [
    "av_df=pd.read_csv('Cleaned_AviationData.csv', index_col=0, encoding='latin1', low_memory=False)\n",
    "us_df=pd.read_csv('USState_Codes.csv', index_col=0, encoding='latin1', low_memory=False)"
   ]
  },
  {
   "cell_type": "markdown",
   "id": "d3e993dc",
   "metadata": {},
   "source": [
    "## Explore safety metrics across models/makes\n",
    "- Remember that the client is interested in separate recommendations for smaller airplanes and larger airplanes. Choose a passenger threshold of 20 and separate the plane types. "
   ]
  },
  {
   "cell_type": "code",
   "execution_count": 5,
   "id": "a99e3af0",
   "metadata": {},
   "outputs": [
    {
     "data": {
      "text/plain": [
       "Accident.Number               object\n",
       "Event.Date                    object\n",
       "Location                      object\n",
       "Country                       object\n",
       "Airport.Code                  object\n",
       "Airport.Name                  object\n",
       "Injury.Severity               object\n",
       "Aircraft.damage               object\n",
       "Aircraft.Category             object\n",
       "Registration.Number           object\n",
       "Make                          object\n",
       "Model                         object\n",
       "Amateur.Built                 object\n",
       "Number.of.Engines              int64\n",
       "Engine.Type                   object\n",
       "FAR.Description               object\n",
       "Purpose.of.flight             object\n",
       "Total.Fatal.Injuries           int64\n",
       "Total.Serious.Injuries         int64\n",
       "Total.Minor.Injuries           int64\n",
       "Total.Uninjured                int64\n",
       "Weather.Condition             object\n",
       "Broad.phase.of.flight         object\n",
       "Report.Status                 object\n",
       "Publication.Date              object\n",
       "Total.Passengers             float64\n",
       "Fatal.Serious.Injury.Rate    float64\n",
       "Injury.Risk.Category          object\n",
       "City                          object\n",
       "State                         object\n",
       "dtype: object"
      ]
     },
     "execution_count": 5,
     "metadata": {},
     "output_type": "execute_result"
    }
   ],
   "source": [
    "av_df.dtypes"
   ]
  },
  {
   "cell_type": "markdown",
   "id": "46cf9d13-6f73-4fb3-8f6a-63d51ef77741",
   "metadata": {},
   "source": [
    "change **Total.Passangers** to numeric"
   ]
  },
  {
   "cell_type": "code",
   "execution_count": null,
   "id": "004e7145-2bd7-4089-8755-a2cca20a8c9c",
   "metadata": {},
   "outputs": [],
   "source": [
    "av_df['Total.Passengers']=pd.to_numeric(av_df['Total.Passengers'], errors='coerce')"
   ]
  },
  {
   "cell_type": "markdown",
   "id": "76545994-7c0f-41d8-b897-2b7fe5303c9f",
   "metadata": {},
   "source": [
    "Split into **s_planes, l_planes** based on plane > 20 makes it a larger plane"
   ]
  },
  {
   "cell_type": "code",
   "execution_count": 9,
   "id": "9777d35b-37b7-4f78-8f83-942959c574f9",
   "metadata": {},
   "outputs": [],
   "source": [
    "s_planes=av_df[av_df['Total.Passengers'] <= 20].copy()\n",
    "l_planes=av_df[av_df['Total.Passengers'] > 20].copy()"
   ]
  },
  {
   "cell_type": "code",
   "execution_count": 10,
   "id": "a31e07da-6619-4a54-94ea-d003df85a360",
   "metadata": {},
   "outputs": [],
   "source": [
    "s_planes['Aircraft.Size']=\"Small\"\n",
    "l_planes['Aricraft.Size']=\"Large\""
   ]
  },
  {
   "cell_type": "code",
   "execution_count": 11,
   "id": "68bedce1-a3d8-42e5-abce-0acfd12a5847",
   "metadata": {},
   "outputs": [
    {
     "name": "stdout",
     "output_type": "stream",
     "text": [
      "16641 248\n"
     ]
    }
   ],
   "source": [
    "print(s_planes.shape[0], l_planes.shape[0])"
   ]
  },
  {
   "cell_type": "markdown",
   "id": "087b608f-9453-4e6f-ab7f-e0126dfe3a9c",
   "metadata": {},
   "source": [
    "# It Appears\n",
    "that there are a **16,393** more inccidents of small planes have a accitent of some sort than large planes"
   ]
  },
  {
   "cell_type": "code",
   "execution_count": 16,
   "id": "ae47badf-2c75-4bf9-bdf1-e5f7beb31f5a",
   "metadata": {},
   "outputs": [
    {
     "name": "stdout",
     "output_type": "stream",
     "text": [
      "Mean rate for small planes: 0.26807427264384814\n",
      "Mean rate for large planes: 0.07233161406198552\n"
     ]
    }
   ],
   "source": [
    "#Getting the occurance rate for larger vs small planes\n",
    "mean_injury_rates={\n",
    "    'Small Aircraft': s_planes['Fatal.Serious.Injury.Rate'].mean(),\n",
    "    'Large Aircraft': l_planes['Fatal.Serious.Injury.Rate'].mean()}\n",
    "\n",
    "print(\"Mean rate for small planes:\", s_planes['Fatal.Serious.Injury.Rate'].mean())\n",
    "print(\"Mean rate for large planes:\", l_planes['Fatal.Serious.Injury.Rate'].mean())"
   ]
  },
  {
   "cell_type": "code",
   "execution_count": 14,
   "id": "dd82fcae-02a1-4169-8b18-b98b73bec93e",
   "metadata": {},
   "outputs": [
    {
     "data": {
      "image/png": "[encoded data removed]",
      "text/plain": [
       "<Figure size 800x600 with 1 Axes>"
      ]
     },
     "metadata": {},
     "output_type": "display_data"
    }
   ],
   "source": [
    "plt.figure(figsize=(8, 6))\n",
    "sns.barplot(x=list(mean_injury_rates.keys()), y=list(mean_injury_rates.values()))\n",
    "\n",
    "# Customize the plot\n",
    "plt.title('Mean Fatal/Serious Injury Rate by Aircraft Size')\n",
    "plt.xlabel('Aircraft Size')\n",
    "plt.ylabel('Mean Injury Rate')\n",
    "plt.ylim(0, 1)  # keep scale from 0 to 1 since it's a proportion\n",
    "plt.grid(True, axis='y')\n",
    "\n",
    "plt.show()"
   ]
  },
  {
   "cell_type": "markdown",
   "id": "af511e5b-ae98-4d33-8b1d-89cd2bd9b1e1",
   "metadata": {},
   "source": [
    "## Small vs Large Aircraft Injury Rate\n",
    "The number of large aircraft is the dataset is only *248* opposed to small whcih has *16641*\n",
    "On average large aircraft have a lower injusry rate, *meaning* passangers are less likely to be seriously injured.\n",
    "Larger planes appear to be consistantly more safe, perhaps due to stricter regulations as the are owned and oporated by stricter large companies."
   ]
  },
  {
   "cell_type": "code",
   "execution_count": null,
   "id": "a137e3d9-6e9f-4d5d-9bb8-bd23e907f44f",
   "metadata": {},
   "outputs": [],
   "source": []
  },
  {
   "cell_type": "code",
   "execution_count": null,
   "id": "5e00bf33-e89f-4879-8975-1e9b70b80ad5",
   "metadata": {},
   "outputs": [],
   "source": []
  },
  {
   "cell_type": "code",
   "execution_count": null,
   "id": "11dee066-22af-4f57-aa16-f3c667fde98c",
   "metadata": {},
   "outputs": [],
   "source": []
  },
  {
   "cell_type": "code",
   "execution_count": null,
   "id": "06870061-38a6-4afc-bfbe-b6c5adf604a3",
   "metadata": {},
   "outputs": [],
   "source": []
  },
  {
   "cell_type": "code",
   "execution_count": null,
   "id": "e23b153d-091c-4b9f-98a8-9d67511e6c65",
   "metadata": {},
   "outputs": [],
   "source": []
  },
  {
   "cell_type": "code",
   "execution_count": null,
   "id": "331cbb30-d3f3-4f62-a5ff-cdc7cdfbf917",
   "metadata": {},
   "outputs": [],
   "source": []
  },
  {
   "cell_type": "markdown",
   "id": "725c7e50",
   "metadata": {},
   "source": [
    "#### Analyzing Makes\n",
    "\n",
    "Explore the human injury risk profile for small and larger Makes:\n",
    "- choose the 15 makes for each group possessing the lowest mean fatal/seriously injured fraction\n",
    "- plot the mean fatal/seriously injured fraction for each of these subgroups side-by-side"
   ]
  },
  {
   "cell_type": "code",
   "execution_count": null,
   "id": "0417acc2",
   "metadata": {},
   "outputs": [],
   "source": []
  },
  {
   "cell_type": "markdown",
   "id": "2e09b89e",
   "metadata": {},
   "source": [
    "**Distribution of injury rates: small makes**\n",
    "\n",
    "Use a violinplot to look at the distribution of the fraction of passengers serious/fatally injured for small airplane makes. Just display makes with the ten lowest mean serious/fatal injury rates."
   ]
  },
  {
   "cell_type": "code",
   "execution_count": null,
   "id": "835fcc26",
   "metadata": {},
   "outputs": [],
   "source": []
  },
  {
   "cell_type": "markdown",
   "id": "dba86877",
   "metadata": {},
   "source": [
    "**Distribution of injury rates: large makes**\n",
    "\n",
    "Use a stripplot to look at the distribution of the fraction of passengers serious/fatally injured for large airplane makes. Just display makes with the ten lowest mean serious/fatal injury rates."
   ]
  },
  {
   "cell_type": "code",
   "execution_count": null,
   "id": "bd247956",
   "metadata": {},
   "outputs": [],
   "source": []
  },
  {
   "cell_type": "markdown",
   "id": "eaeab462",
   "metadata": {},
   "source": [
    "**Evaluate the rate of aircraft destruction for both small and large aircraft by Make.** \n",
    "\n",
    "Sort your results and keep the lowest 15."
   ]
  },
  {
   "cell_type": "code",
   "execution_count": null,
   "id": "e105e04c",
   "metadata": {},
   "outputs": [],
   "source": []
  },
  {
   "cell_type": "markdown",
   "id": "77c7232c",
   "metadata": {},
   "source": [
    "#### Provide a short discussion on your findings for your summary statistics and plots:\n",
    "- Make any recommendations for Makes here based off of the destroyed fraction and fraction fatally/seriously injured\n",
    "- Comment on the calculated statistics and any corresponding distributions you have visualized."
   ]
  },
  {
   "cell_type": "code",
   "execution_count": null,
   "id": "0c86d0e0",
   "metadata": {},
   "outputs": [],
   "source": []
  },
  {
   "cell_type": "markdown",
   "id": "40aecfef",
   "metadata": {},
   "source": [
    "### Analyze plane types\n",
    "- plot the mean fatal/seriously injured fraction for both small and larger planes \n",
    "- also provide a distributional plot of your choice for the fatal/seriously injured fraction by airplane type (stripplot, violin, etc)  \n",
    "- filter ensuring that you have at least ten individual examples in each model/make to average over"
   ]
  },
  {
   "cell_type": "markdown",
   "id": "8f1faa32",
   "metadata": {},
   "source": [
    "**Larger planes**"
   ]
  },
  {
   "cell_type": "code",
   "execution_count": null,
   "id": "2792d157",
   "metadata": {},
   "outputs": [],
   "source": []
  },
  {
   "cell_type": "markdown",
   "id": "c7bb10ce",
   "metadata": {},
   "source": [
    "**Smaller planes**\n",
    "- for smaller planes, limit your plotted results to the makes with the 10 lowest mean serious/fatal injury fractions"
   ]
  },
  {
   "cell_type": "code",
   "execution_count": null,
   "id": "d0590708",
   "metadata": {},
   "outputs": [],
   "source": []
  },
  {
   "cell_type": "markdown",
   "id": "727e14b5",
   "metadata": {},
   "source": [
    "### Discussion of Specific Airplane Types\n",
    "- Discuss what you have found above regarding passenger fraction seriously/ both small and large airplane models."
   ]
  },
  {
   "cell_type": "code",
   "execution_count": null,
   "id": "32675815",
   "metadata": {},
   "outputs": [],
   "source": []
  },
  {
   "cell_type": "markdown",
   "id": "91b39e09",
   "metadata": {},
   "source": [
    "### Exploring Other Variables\n",
    "- Investigate how other variables effect aircraft damage and injury. You must choose **two** factors out of the following but are free to analyze more:\n",
    "\n",
    "- Weather Condition\n",
    "- Engine Type\n",
    "- Number of Engines\n",
    "- Phase of Flight\n",
    "- Purpose of Flight\n",
    "\n",
    "For each factor provide a discussion explaining your analysis with appropriate visualization / data summaries and interpreting your findings."
   ]
  },
  {
   "cell_type": "code",
   "execution_count": null,
   "id": "2ce07617",
   "metadata": {},
   "outputs": [],
   "source": []
  }
 ],
 "metadata": {
  "kernelspec": {
   "display_name": "Python 3 (ipykernel)",
   "language": "python",
   "name": "python3"
  },
  "language_info": {
   "codemirror_mode": {
    "name": "ipython",
    "version": 3
   },
   "file_extension": ".py",
   "mimetype": "text/x-python",
   "name": "python",
   "nbconvert_exporter": "python",
   "pygments_lexer": "ipython3",
   "version": "3.12.4"
  }
 },
 "nbformat": 4,
 "nbformat_minor": 5
}
